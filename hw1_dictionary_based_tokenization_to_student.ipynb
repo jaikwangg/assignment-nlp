{
  "nbformat": 4,
  "nbformat_minor": 0,
  "metadata": {
    "kernelspec": {
      "display_name": "Python 3",
      "language": "python",
      "name": "python3"
    },
    "language_info": {
      "codemirror_mode": {
        "name": "ipython",
        "version": 3
      },
      "file_extension": ".py",
      "mimetype": "text/x-python",
      "name": "python",
      "nbconvert_exporter": "python",
      "pygments_lexer": "ipython3",
      "version": "3.6.4"
    },
    "colab": {
      "provenance": [],
      "toc_visible": true,
      "include_colab_link": true
    }
  },
  "cells": [
    {
      "cell_type": "markdown",
      "metadata": {
        "id": "view-in-github",
        "colab_type": "text"
      },
      "source": [
        "<a href=\"https://colab.research.google.com/github/jaikwangg/assignment-nlp/blob/main/hw1_dictionary_based_tokenization_to_student.ipynb\" target=\"_parent\"><img src=\"https://colab.research.google.com/assets/colab-badge.svg\" alt=\"Open In Colab\"/></a>"
      ]
    },
    {
      "cell_type": "markdown",
      "metadata": {
        "id": "7EdbVSmE87En"
      },
      "source": [
        "# HW1: Dictionary-based Tokenization\n"
      ]
    },
    {
      "cell_type": "markdown",
      "metadata": {
        "id": "pJJLm1Ub87Et"
      },
      "source": [
        "In this exercise, you are to implement a dictionary-based word segmentation algorithm. There are two Python functions that you need to complete:\n",
        "<br>\n",
        "* maximal_matching\n",
        "* backtrack\n",
        "</br>\n",
        "\n",
        "Also, you have to find how to use word_tokenize() in PythaiNLP along with customer_dict by yourselves."
      ]
    },
    {
      "cell_type": "markdown",
      "metadata": {
        "id": "DF5Pme7CK3YF"
      },
      "source": [
        "## Part1) Your Maximal Matching with Your Dictionary"
      ]
    },
    {
      "cell_type": "markdown",
      "metadata": {
        "id": "xzs0R06q87Et"
      },
      "source": [
        "### Create a toy dictionary to test the algorithm\n",
        "\n",
        "This is based on the example shown in the lecture.\n",
        "You will tokenize the following text string: \"ไปหามเหสี!\"\n",
        "The toy dictoionary provided in this exercise includes all the charaters, syllables, and words that appear that the text string."
      ]
    },
    {
      "cell_type": "code",
      "metadata": {
        "id": "pq3W4p3z87Ev"
      },
      "source": [
        "thai_vocab = [\"ไ\",\"ป\",\"ห\",\"า\",\"ม\",\"เ\",\"ห\",\"ส\",\"ี\",\"ไป\",\"หา\",\"มา\",\"หมา\",\"หาม\",\"เห\",\"สี\",\"มเหสี\",\"!\"]"
      ],
      "execution_count": 21,
      "outputs": []
    },
    {
      "cell_type": "markdown",
      "metadata": {
        "id": "ZornooGF87Ew"
      },
      "source": [
        "### Maximal matching\n",
        "Complete the maximal matching  function below to tokenize the input text\n"
      ]
    },
    {
      "cell_type": "code",
      "metadata": {
        "id": "Ao4d2E3387Ew"
      },
      "source": [
        "from math import inf #infinity\n",
        "def maximal_matching(c):\n",
        "    #Initialize an empty 2D list\n",
        "    d  =[[None]*len(c) for _ in range(len(c))]\n",
        "\n",
        "    ####FILL CODE HERE####\n",
        "    n = len(c)\n",
        "\n",
        "    for j in range(n):            # j คือปลาย substring\n",
        "        for i in range(j+1):      # i คือจุดเริ่ม substring\n",
        "            substring = c[i:j+1]\n",
        "            if substring in thai_vocab:\n",
        "                if i == 0:\n",
        "                    # ถ้า substring อยู่ใน dict และเริ่มตั้งแต่ index 0\n",
        "                    # แปลว่า c[0..j] ใช้ 1 คำเท่านั้น\n",
        "                    d[i][j] = 1\n",
        "                else:\n",
        "                    # ต้องต่อจากการแบ่งคำที่สมบูรณ์ในช่วง 0..(i-1)\n",
        "                    # หาค่า min cost ใน d[k][i-1] (k <= i-1)\n",
        "                    min_cost = inf\n",
        "                    for k in range(i):\n",
        "                        if d[k][i-1] is not None:\n",
        "                            if d[k][i-1] < min_cost:\n",
        "                                min_cost = d[k][i-1]\n",
        "\n",
        "                    if min_cost < inf:\n",
        "                        d[i][j] = min_cost + 1\n",
        "    ######################\n",
        "\n",
        "    return d"
      ],
      "execution_count": 22,
      "outputs": []
    },
    {
      "cell_type": "markdown",
      "metadata": {
        "id": "w7vBXfjM87Ew"
      },
      "source": [
        "### Backtracking\n",
        "Complete the backtracking function below to find the tokenzied words.\n",
        "It should return a list containing a pair of the beginning position and the ending position of each word.\n",
        "In this example, it should return:\n",
        "<br>\n",
        "[(0, 1),(2, 3),(4, 8),(9, 9)]\n",
        "<br>\n",
        "#### Each pair contains the position of each word as follows:\n",
        "(0, 1) ไป\n",
        "<br>\n",
        "(2, 3) หา\n",
        "<br>\n",
        "(4, 8) มเหสี\n",
        "<br>\n",
        "(9, 9) !\n"
      ]
    },
    {
      "cell_type": "code",
      "metadata": {
        "id": "SxNFf1IE87Ex"
      },
      "source": [
        "def backtrack(d):\n",
        "    n = len(d)\n",
        "    word_pos = [] # Word position\n",
        "    j = n - 1\n",
        "    ####FILL CODE HERE####\n",
        "    while j >= 0:\n",
        "        best_i = None\n",
        "        best_cost = inf\n",
        "\n",
        "        # ไล่ดู i ตั้งแต่ 0..j ว่าช่วง c[i..j] แบ่งได้หรือไม่\n",
        "        for i in range(j+1):\n",
        "            if d[i][j] is not None and d[i][j] < best_cost:\n",
        "                best_cost = d[i][j]\n",
        "                best_i = i\n",
        "\n",
        "        # if best_i is None:\n",
        "        #     # ถ้าไม่มีตำแหน่งไหนแบ่งได้เลย => break\n",
        "        #     # (กรณีนี้จะเกิดยาก ถ้าพจนานุกรมครบ)\n",
        "        #     break\n",
        "\n",
        "        # บันทึกช่วงคำ\n",
        "        word_pos.append((best_i, j))\n",
        "        # เลื่อนไปดูส่วนก่อนหน้า\n",
        "        j = best_i - 1\n",
        "    ######################\n",
        "    word_pos.reverse()\n",
        "    return word_pos\n"
      ],
      "execution_count": 45,
      "outputs": []
    },
    {
      "cell_type": "markdown",
      "metadata": {
        "id": "q0MJkKsh87Ex"
      },
      "source": [
        "### Test your maximal matching algorithm on a toy dictionary\n",
        "\n",
        "Expected output:\n",
        "\n",
        "[1, 1, inf, inf, inf, inf, inf, inf, inf, inf] ไ\n",
        "<br>\n",
        "[None, 2, inf, inf, inf, inf, inf, inf, inf, inf] ป\n",
        "<br>\n",
        "[None, None, 2, 2, 2, inf, inf, inf, inf, inf] ห\n",
        "<br>\n",
        "[None, None, None, 3, inf, inf, inf, inf, inf, inf] า\n",
        "<br>\n",
        "[None, None, None, None, 3, inf, inf, inf, 3, inf] ม\n",
        "<br>\n",
        "[None, None, None, None, None, 3, 3, inf, inf, inf] เ\n",
        "<br>\n",
        "[None, None, None, None, None, None, 4, inf, inf, inf] ห\n",
        "<br>\n",
        "[None, None, None, None, None, None, None, 4, 4, inf] ส\n",
        "<br>\n",
        "[None, None, None, None, None, None, None, None, 5, inf] ี\n",
        "<br>\n",
        "[None, None, None, None, None, None, None, None, None, 4] !\n",
        "<br>"
      ]
    },
    {
      "cell_type": "code",
      "metadata": {
        "id": "tsmVQIKS87Ey",
        "outputId": "0f36b619-857e-4e6e-f374-d0a8165e6263",
        "colab": {
          "base_uri": "https://localhost:8080/"
        }
      },
      "source": [
        "input_text = \"ไปหามเหสี!\"\n",
        "out = maximal_matching(input_text)\n",
        "for i in range(len(out)):\n",
        "    print(out[i],input_text[i])"
      ],
      "execution_count": 24,
      "outputs": [
        {
          "output_type": "stream",
          "name": "stdout",
          "text": [
            "[1, 1, None, None, None, None, None, None, None, None] ไ\n",
            "[None, 2, None, None, None, None, None, None, None, None] ป\n",
            "[None, None, 2, 2, 2, None, None, None, None, None] ห\n",
            "[None, None, None, 3, None, None, None, None, None, None] า\n",
            "[None, None, None, None, 3, None, None, None, 3, None] ม\n",
            "[None, None, None, None, None, 3, 3, None, None, None] เ\n",
            "[None, None, None, None, None, None, 4, None, None, None] ห\n",
            "[None, None, None, None, None, None, None, 4, 4, None] ส\n",
            "[None, None, None, None, None, None, None, None, 5, None] ี\n",
            "[None, None, None, None, None, None, None, None, None, 4] !\n"
          ]
        }
      ]
    },
    {
      "cell_type": "markdown",
      "metadata": {
        "id": "IVhCMM4d87Ey"
      },
      "source": [
        "### Test your backtracking algorithm on a toy dictionary\n",
        "Expected output:\n",
        "<br>\n",
        "ไป|หา|มเหสี|!"
      ]
    },
    {
      "cell_type": "code",
      "metadata": {
        "id": "6Hurbm1f87Ey",
        "outputId": "6d21bdca-057e-49d0-f106-cacc172e5b15",
        "colab": {
          "base_uri": "https://localhost:8080/"
        }
      },
      "source": [
        "def print_tokenized_text(d, input_text):\n",
        "    tokenized_text=[]\n",
        "    for pos in backtrack(d):\n",
        "        #print(pos)\n",
        "        tokenized_text.append(input_text[pos[0]:pos[1]+1])\n",
        "\n",
        "    print(\"|\".join(tokenized_text))\n",
        "    print(len(tokenized_text))\n",
        "\n",
        "print_tokenized_text(out,input_text)"
      ],
      "execution_count": 25,
      "outputs": [
        {
          "output_type": "stream",
          "name": "stdout",
          "text": [
            "ไป|หา|มเหสี|!\n",
            "4\n"
          ]
        }
      ]
    },
    {
      "cell_type": "markdown",
      "source": [
        "### <font color=blue>Question 1</font>\n",
        "Using the code from part one only, how many “words” did you get when tokenizing this input text.\n",
        "\n",
        "Answer this question in question #1 in MyCourseVille. Also print out the answer in this notebook as well."
      ],
      "metadata": {
        "id": "quWOGldzXMQQ"
      }
    },
    {
      "cell_type": "code",
      "source": [
        "input_text = \"ไปหาหมามเหสีมาหาม!\""
      ],
      "metadata": {
        "id": "OEPYOIfBXGoR"
      },
      "execution_count": 26,
      "outputs": []
    },
    {
      "cell_type": "code",
      "source": [
        "out = maximal_matching(input_text)\n",
        "\n",
        "for i in range(len(out)):\n",
        "    row_display = []\n",
        "    for j in range(len(out[i])):\n",
        "        val = out[i][j]\n",
        "        if val is None:\n",
        "            row_display.append(\"None\")\n",
        "        elif val == inf:\n",
        "            row_display.append(\"inf\")\n",
        "        else:\n",
        "            row_display.append(val)\n",
        "    print(row_display, input_text[i])\n",
        "\n",
        "print(\"\\nผลการตัดคำ (Maximal Matching):\")\n",
        "print_tokenized_text(out, input_text)"
      ],
      "metadata": {
        "id": "hkv2LNjXtk6D",
        "outputId": "814c4233-2190-42ee-a8ce-618adfcba417",
        "colab": {
          "base_uri": "https://localhost:8080/"
        }
      },
      "execution_count": 27,
      "outputs": [
        {
          "output_type": "stream",
          "name": "stdout",
          "text": [
            "[1, 1, 'None', 'None', 'None', 'None', 'None', 'None', 'None', 'None', 'None', 'None', 'None', 'None', 'None', 'None', 'None', 'None'] ไ\n",
            "['None', 2, 'None', 'None', 'None', 'None', 'None', 'None', 'None', 'None', 'None', 'None', 'None', 'None', 'None', 'None', 'None', 'None'] ป\n",
            "['None', 'None', 2, 2, 'None', 'None', 'None', 'None', 'None', 'None', 'None', 'None', 'None', 'None', 'None', 'None', 'None', 'None'] ห\n",
            "['None', 'None', 'None', 3, 'None', 'None', 'None', 'None', 'None', 'None', 'None', 'None', 'None', 'None', 'None', 'None', 'None', 'None'] า\n",
            "['None', 'None', 'None', 'None', 3, 'None', 3, 'None', 'None', 'None', 'None', 'None', 'None', 'None', 'None', 'None', 'None', 'None'] ห\n",
            "['None', 'None', 'None', 'None', 'None', 4, 4, 'None', 'None', 'None', 'None', 'None', 'None', 'None', 'None', 'None', 'None', 'None'] ม\n",
            "['None', 'None', 'None', 'None', 'None', 'None', 5, 'None', 'None', 'None', 'None', 'None', 'None', 'None', 'None', 'None', 'None', 'None'] า\n",
            "['None', 'None', 'None', 'None', 'None', 'None', 'None', 4, 'None', 'None', 'None', 4, 'None', 'None', 'None', 'None', 'None', 'None'] ม\n",
            "['None', 'None', 'None', 'None', 'None', 'None', 'None', 'None', 5, 5, 'None', 'None', 'None', 'None', 'None', 'None', 'None', 'None'] เ\n",
            "['None', 'None', 'None', 'None', 'None', 'None', 'None', 'None', 'None', 6, 'None', 'None', 'None', 'None', 'None', 'None', 'None', 'None'] ห\n",
            "['None', 'None', 'None', 'None', 'None', 'None', 'None', 'None', 'None', 'None', 6, 6, 'None', 'None', 'None', 'None', 'None', 'None'] ส\n",
            "['None', 'None', 'None', 'None', 'None', 'None', 'None', 'None', 'None', 'None', 'None', 7, 'None', 'None', 'None', 'None', 'None', 'None'] ี\n",
            "['None', 'None', 'None', 'None', 'None', 'None', 'None', 'None', 'None', 'None', 'None', 'None', 5, 5, 'None', 'None', 'None', 'None'] ม\n",
            "['None', 'None', 'None', 'None', 'None', 'None', 'None', 'None', 'None', 'None', 'None', 'None', 'None', 6, 'None', 'None', 'None', 'None'] า\n",
            "['None', 'None', 'None', 'None', 'None', 'None', 'None', 'None', 'None', 'None', 'None', 'None', 'None', 'None', 6, 6, 6, 'None'] ห\n",
            "['None', 'None', 'None', 'None', 'None', 'None', 'None', 'None', 'None', 'None', 'None', 'None', 'None', 'None', 'None', 7, 'None', 'None'] า\n",
            "['None', 'None', 'None', 'None', 'None', 'None', 'None', 'None', 'None', 'None', 'None', 'None', 'None', 'None', 'None', 'None', 7, 'None'] ม\n",
            "['None', 'None', 'None', 'None', 'None', 'None', 'None', 'None', 'None', 'None', 'None', 'None', 'None', 'None', 'None', 'None', 'None', 7] !\n",
            "\n",
            "ผลการตัดคำ (Maximal Matching):\n",
            "ไป|หา|หมา|มเหสี|มา|หาม|!\n",
            "7\n"
          ]
        }
      ]
    },
    {
      "cell_type": "markdown",
      "metadata": {
        "id": "57rP9cTU87Ez"
      },
      "source": [
        "## Part2) Your Maximal Matching with Real Dictionary"
      ]
    },
    {
      "cell_type": "markdown",
      "metadata": {
        "id": "V306h7AG87Ez"
      },
      "source": [
        "For UNIX-based OS users, the following cell will download a dictionary (it's just a list of thai words). Alternatively, you can download it from this link: https://raw.githubusercontent.com/PyThaiNLP/pythainlp/dev/pythainlp/corpus/words_th.txt"
      ]
    },
    {
      "cell_type": "code",
      "metadata": {
        "scrolled": true,
        "id": "EFVR9LO187Ez",
        "outputId": "7a070f8c-712a-40ec-ef3f-754b5e4157a6",
        "colab": {
          "base_uri": "https://localhost:8080/"
        }
      },
      "source": [
        "!wget https://raw.githubusercontent.com/PyThaiNLP/pythainlp/dev/pythainlp/corpus/words_th.txt"
      ],
      "execution_count": 28,
      "outputs": [
        {
          "output_type": "stream",
          "name": "stdout",
          "text": [
            "--2025-03-31 15:34:08--  https://raw.githubusercontent.com/PyThaiNLP/pythainlp/dev/pythainlp/corpus/words_th.txt\n",
            "Resolving raw.githubusercontent.com (raw.githubusercontent.com)... 185.199.111.133, 185.199.110.133, 185.199.108.133, ...\n",
            "Connecting to raw.githubusercontent.com (raw.githubusercontent.com)|185.199.111.133|:443... connected.\n",
            "HTTP request sent, awaiting response... 200 OK\n",
            "Length: 1519661 (1.4M) [text/plain]\n",
            "Saving to: ‘words_th.txt’\n",
            "\n",
            "words_th.txt        100%[===================>]   1.45M  --.-KB/s    in 0.1s    \n",
            "\n",
            "2025-03-31 15:34:09 (15.0 MB/s) - ‘words_th.txt’ saved [1519661/1519661]\n",
            "\n"
          ]
        }
      ]
    },
    {
      "cell_type": "code",
      "metadata": {
        "id": "nqIQzVgE87E0",
        "outputId": "2d7eb5ed-1e5e-4fe6-9ac7-ec84b113ceeb",
        "colab": {
          "base_uri": "https://localhost:8080/"
        }
      },
      "source": [
        "with open(\"words_th.txt\",encoding='utf-8-sig') as f:\n",
        "    thai_vocab = f.read().splitlines()\n",
        "print(\"Vocab size:\", len(thai_vocab))\n",
        "print(thai_vocab[:10])\n",
        "\n",
        "thai_vocab.extend([\"ๆ\",\"!\",\"ประเทศไทย\", \"รวม\", \"เลือด\", \"เนื้อ\", \"ชาติ\", \"เชื้อ\", \"ไทย\", \"เป็น\", \"ประชารัฐ\", \"ไผท\", \"ของ\", \"ทุก\", \"ส่วน\"])"
      ],
      "execution_count": 47,
      "outputs": [
        {
          "output_type": "stream",
          "name": "stdout",
          "text": [
            "Vocab size: 62080\n",
            "['ก ข ไม่กระดิกหู', 'ก.', 'ก.ค.', 'ก.ต.', 'ก.ป.ส.', 'ก.พ.', 'ก.พ.ด.', 'ก.ม.', 'ก.ย.', 'ก.ย']\n"
          ]
        }
      ]
    },
    {
      "cell_type": "markdown",
      "metadata": {
        "id": "Kpjwzw1w87E0"
      },
      "source": [
        "### The output of your maximal matching algoithm on a new dictionary\n",
        "Expected output:\n",
        "<br>\n",
        "[inf, 1, inf, 1, inf, inf, inf, inf, inf] ไ\n",
        "<br>\n",
        "[None, inf, inf, inf, inf, inf, inf, inf, inf] ป\n",
        "<br>\n",
        "[None, None, inf, 2, 2, inf, inf, inf, inf] ห\n",
        "<br>\n",
        "[None, None, None, inf, inf, inf, inf, inf, inf] า\n",
        "<br>\n",
        "[None, None, None, None, inf, inf, inf, inf, 2] ม\n",
        "<br>\n",
        "[None, None, None, None, None, inf, 3, inf, inf] เ\n",
        "<br>\n",
        "[None, None, None, None, None, None, inf, inf, inf] ห\n",
        "<br>\n",
        "[None, None, None, None, None, None, None, inf, 4] ส\n",
        "<br>\n",
        "[None, None, None, None, None, None, None, None, inf] ี\n"
      ]
    },
    {
      "cell_type": "code",
      "metadata": {
        "id": "lYD5ChIS87E0",
        "outputId": "ebad6d6d-f391-49d9-e9af-4c320b409e32",
        "colab": {
          "base_uri": "https://localhost:8080/"
        }
      },
      "source": [
        "input_text = \"ไปหามเหสี\"\n",
        "out = maximal_matching(input_text)\n",
        "for i in range(len(out)):\n",
        "    print(out[i],input_text[i])"
      ],
      "execution_count": 48,
      "outputs": [
        {
          "output_type": "stream",
          "name": "stdout",
          "text": [
            "[None, 1, None, 1, None, None, None, None, None] ไ\n",
            "[None, None, None, None, None, None, None, None, None] ป\n",
            "[None, None, None, 2, 2, None, None, None, None] ห\n",
            "[None, None, None, None, None, None, None, None, None] า\n",
            "[None, None, None, None, None, None, None, None, 2] ม\n",
            "[None, None, None, None, None, None, 3, None, None] เ\n",
            "[None, None, None, None, None, None, None, None, None] ห\n",
            "[None, None, None, None, None, None, None, None, 4] ส\n",
            "[None, None, None, None, None, None, None, None, None] ี\n"
          ]
        }
      ]
    },
    {
      "cell_type": "markdown",
      "metadata": {
        "id": "BSqLuK7G87E0"
      },
      "source": [
        "### Expected tokenized text\n",
        "ไปหา|มเหสี"
      ]
    },
    {
      "cell_type": "code",
      "metadata": {
        "id": "TI077jmy87E0",
        "outputId": "7a9b6df8-bae2-4c12-9546-2cbe59cc53fa",
        "colab": {
          "base_uri": "https://localhost:8080/"
        }
      },
      "source": [
        "# print('ไปหา' in thai_vocab)\n",
        "# print('มเหสี' in thai_vocab)\n",
        "# print('ปปป' in thai_vocab)\n",
        "print_tokenized_text(out,input_text)"
      ],
      "execution_count": 49,
      "outputs": [
        {
          "output_type": "stream",
          "name": "stdout",
          "text": [
            "ไปหา|มเหสี\n",
            "2\n"
          ]
        }
      ]
    },
    {
      "cell_type": "code",
      "source": [
        "print(\"ประเทศไทย\" in thai_vocab)\n",
        "print(\"ประเ\" in thai_vocab)\n",
        "print(\"ทศไทย\" in thai_vocab)"
      ],
      "metadata": {
        "id": "LDxjNheZ2wPU",
        "outputId": "97ce6415-c491-41e9-f20b-363c5fb0528b",
        "colab": {
          "base_uri": "https://localhost:8080/"
        }
      },
      "execution_count": 50,
      "outputs": [
        {
          "output_type": "stream",
          "name": "stdout",
          "text": [
            "True\n",
            "False\n",
            "False\n"
          ]
        }
      ]
    },
    {
      "cell_type": "markdown",
      "source": [
        "### <font color=blue>Question 2</font>\n",
        "Using the code from part two only, how many “words” did you get when tokenizing this input text.\n",
        "\n",
        "Answer this question in question #2 in MyCourseVille. Also print out the answer in this notebook as well."
      ],
      "metadata": {
        "id": "44UilNq5Ywne"
      }
    },
    {
      "cell_type": "code",
      "source": [
        "input_text = \"ประเทศไทยรวมเลือดเนื้อชาติเชื้อไทยเป็นประชารัฐไผทของไทยทุกส่วนอยู่ดำรงคงไว้ได้ทั้งมวลด้วยไทยล้วนหมายรักสามัคคี\""
      ],
      "metadata": {
        "id": "KjT7YzC0YzYo"
      },
      "execution_count": 51,
      "outputs": []
    },
    {
      "cell_type": "code",
      "source": [
        "print_tokenized_text(out,input_text)"
      ],
      "metadata": {
        "id": "KusCcN-N10-A",
        "outputId": "471b5831-11a3-46cf-fe7d-469f3e3a1116",
        "colab": {
          "base_uri": "https://localhost:8080/"
        }
      },
      "execution_count": 52,
      "outputs": [
        {
          "output_type": "stream",
          "name": "stdout",
          "text": [
            "ประเ|ทศไทย\n",
            "2\n"
          ]
        }
      ]
    },
    {
      "cell_type": "markdown",
      "metadata": {
        "id": "VLGgO8PrLSz6"
      },
      "source": [
        "## Part3) Maximal Matching from PythaiNLP"
      ]
    },
    {
      "cell_type": "markdown",
      "metadata": {
        "id": "LrZrzQoXLeUX"
      },
      "source": [
        "### Default dictionary\n",
        "\n",
        "Study word_tokenize() from PythaiNLP in the link below.\n",
        "\n",
        "https://pythainlp.github.io/docs/3.1/api/tokenize.html#pythainlp.tokenize.word_tokenize"
      ]
    },
    {
      "cell_type": "code",
      "metadata": {
        "id": "yXxPBOcNLXfm"
      },
      "source": [
        "!pip install pythainlp\n",
        "!pip install marisa_trie"
      ],
      "execution_count": null,
      "outputs": []
    },
    {
      "cell_type": "code",
      "metadata": {
        "id": "goQE5gFUL4KO"
      },
      "source": [
        "from pythainlp.tokenize import word_tokenize\n",
        "text='นัดกินกันตอนไหนก็ได้ที่สามย่านมิตรทาวน์'\n",
        "\n",
        "####FILL CODE HERE####\n",
        "\n",
        "######################"
      ],
      "execution_count": null,
      "outputs": []
    },
    {
      "cell_type": "markdown",
      "metadata": {
        "id": "2SlX5cEBMHPd"
      },
      "source": [
        "### Custom dictionary\n",
        "\n",
        "Add 'สามย่านมิตรทาวน์' into dictionary and then tokenize again"
      ]
    },
    {
      "cell_type": "code",
      "metadata": {
        "id": "b4V9TqFaMPAj"
      },
      "source": [
        "####FILL CODE HERE####\n",
        "\n",
        "######################"
      ],
      "execution_count": null,
      "outputs": []
    },
    {
      "cell_type": "markdown",
      "source": [
        "### <font color=blue>Question 3</font>\n",
        "Using the code from part three only, how many “words” did you get when tokenizing this input text **after adding the new vocabs**.\n",
        "\n",
        "Answer this question in question #3 in MyCourseVille. Also print out the answer in this notebook as well."
      ],
      "metadata": {
        "id": "Ehzo958tY6DM"
      }
    },
    {
      "cell_type": "code",
      "source": [
        "new_vocab = [\"ดิสนีย์ออนไอซ์\", \"ตีกอล์ฟ\", \"ธรรมมะ\"]\n",
        "input_text = \"อ๋อก็ว่าจะไปเรียนแต่งหน้านั่งสมาธิดำน้ำปลูกปะการังทำอาหารนวดสปาปลูกป่าดำนาดูดิสนีย์ออนไอซ์แรลลี่ตีกอล์ฟล่องเรือส่องสัตว์ช้อปปิ้งดูงิ้วดูละครเวทีดูคอนเสิร์ตดินเนอร์ทำขนมจัดดอกไม้เที่ยวตลาดน้ำเรียนถ่ายรูปดูกายกรรมชมเมืองเก่าเข้าสัมมนาทัวร์ธรรมมะเรียนเต้นแล้วก็ร้องเพลง\"\n"
      ],
      "metadata": {
        "id": "lNzYQcEkZIJs"
      },
      "execution_count": null,
      "outputs": []
    }
  ]
}